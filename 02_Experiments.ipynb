{
 "cells": [
  {
   "cell_type": "markdown",
   "id": "3796eb57",
   "metadata": {},
   "source": [
    "# Explainable Outcome Prediction - Experiments\n",
    "\n",
    "- Author: David Steiner\n",
    "- Last updated: December 2021"
   ]
  },
  {
   "cell_type": "code",
   "execution_count": 1,
   "id": "d6be887f",
   "metadata": {},
   "outputs": [],
   "source": [
    "from prep_custom import get_dataset_settings,create_trace_bucket,remove_features,remove_events,split_data_temporal,replace_missing_cols,prepare_ml_train_test, aggregate_data\n",
    "from prep_custom import scale_data, one_hot_encode, group_infrequent_features, prepare_dl_train_test, define_binary_outcome_label\n",
    "from pred_custom import get_evaluation_metrics, train_model, plot_train_history, get_cnn_clf, get_lstm_clf, get_gru_clf, get_dnn_clf\n",
    "\n",
    "import pandas as pd\n",
    "pd.set_option(\"display.max_columns\", 200)\n",
    "pd.set_option(\"display.max_rows\", 100)\n",
    "\n",
    "import numpy as np\n",
    "import re\n",
    "\n",
    "import warnings\n",
    "warnings.filterwarnings('ignore')\n",
    "\n",
    "import matplotlib.pyplot as plt\n",
    "%matplotlib inline"
   ]
  },
  {
   "cell_type": "markdown",
   "id": "a1f23644",
   "metadata": {},
   "source": [
    "## Load Dataset And Define Binary Outcome Goal"
   ]
  },
  {
   "cell_type": "markdown",
   "id": "a723de84",
   "metadata": {},
   "source": [
    "- BPIC17-LoanAccepted\n",
    "- BPIC17-PotentialFraud\n",
    "- BPIC17-LongRunningCases\n",
    "\n",
    "- BPIC13-SupportLevel\n",
    "\n",
    "- BPIC19-DeletedPO\n",
    "- BPIC19-LongRunningCases\n",
    "\n",
    "- BPICHospital-BillingClosed\n",
    "- BPICHospital-CaseReopened"
   ]
  },
  {
   "cell_type": "code",
   "execution_count": 3,
   "id": "b8b91350",
   "metadata": {},
   "outputs": [
    {
     "name": "stdout",
     "output_type": "stream",
     "text": [
      "Categoric Event Attributes: 6 ['concept:name', 'org:resource', 'Action', 'lifecycle:transition', 'Accepted', 'Selected'] \n",
      "\n",
      "Numeric Event Attributes: 13 ['CreditScore', 'FirstWithdrawalAmount', 'MonthlyCost', 'NumberOfTerms', 'OfferedAmount', 'timesincelastevent', 'timesincecasestart', 'timesincemidnight', 'event_nr', 'month', 'weekday', 'hour', 'open_cases'] \n",
      "\n",
      "Categoric Case Attributes: 3 ['case:ApplicationType', 'case:LoanGoal', 'EventOrigin'] \n",
      "\n",
      "Numeric Case Attributes: 1 ['case:RequestedAmount'] \n",
      "\n",
      "Dataset Shape (1202267, 26)\n"
     ]
    }
   ],
   "source": [
    "#Load Dataset \n",
    "data, case_id_col, activity_col, timestamp_col, label_col, resource_col, event_categorical_attributes, event_numeric_attributes, case_categorical_attributes, case_numeric_attributes, static_cols, dynamic_cols, cat_cols = get_dataset_settings(\"BPIC17\")\n",
    "attributes = [event_categorical_attributes, case_categorical_attributes, event_numeric_attributes, case_numeric_attributes]"
   ]
  },
  {
   "cell_type": "code",
   "execution_count": 27,
   "id": "0bb931f7",
   "metadata": {},
   "outputs": [
    {
     "name": "stdout",
     "output_type": "stream",
     "text": [
      "Assigning class labels...\n",
      "Set labels to 1 for Outcome: O_Accepted\n",
      "label\n",
      "0    18621\n",
      "1    12792\n",
      "Name: case:concept:name, dtype: int64\n"
     ]
    }
   ],
   "source": [
    "#Select Outcome and apply labelling function\n",
    "data_labeled, drop_events_list, dl_attributes = define_binary_outcome_label(data, attributes, outcome_label='BPIC17-LoanAccepted')"
   ]
  },
  {
   "cell_type": "code",
   "execution_count": 28,
   "id": "c09c29e1",
   "metadata": {},
   "outputs": [
    {
     "data": {
      "text/html": [
       "<div>\n",
       "<style scoped>\n",
       "    .dataframe tbody tr th:only-of-type {\n",
       "        vertical-align: middle;\n",
       "    }\n",
       "\n",
       "    .dataframe tbody tr th {\n",
       "        vertical-align: top;\n",
       "    }\n",
       "\n",
       "    .dataframe thead th {\n",
       "        text-align: right;\n",
       "    }\n",
       "</style>\n",
       "<table border=\"1\" class=\"dataframe\">\n",
       "  <thead>\n",
       "    <tr style=\"text-align: right;\">\n",
       "      <th></th>\n",
       "      <th>case:ApplicationType</th>\n",
       "      <th>case:LoanGoal</th>\n",
       "      <th>case:RequestedAmount</th>\n",
       "      <th>case:concept:name</th>\n",
       "      <th>label</th>\n",
       "      <th>concept:name</th>\n",
       "      <th>org:resource</th>\n",
       "      <th>Action</th>\n",
       "      <th>CreditScore</th>\n",
       "      <th>EventOrigin</th>\n",
       "      <th>lifecycle:transition</th>\n",
       "      <th>Accepted</th>\n",
       "      <th>Selected</th>\n",
       "      <th>FirstWithdrawalAmount</th>\n",
       "      <th>MonthlyCost</th>\n",
       "      <th>NumberOfTerms</th>\n",
       "      <th>OfferedAmount</th>\n",
       "      <th>timesincelastevent</th>\n",
       "      <th>timesincecasestart</th>\n",
       "      <th>timesincemidnight</th>\n",
       "      <th>event_nr</th>\n",
       "      <th>month</th>\n",
       "      <th>weekday</th>\n",
       "      <th>hour</th>\n",
       "      <th>open_cases</th>\n",
       "      <th>time:timestamp</th>\n",
       "      <th>last_o_activity</th>\n",
       "    </tr>\n",
       "  </thead>\n",
       "  <tbody>\n",
       "    <tr>\n",
       "      <th>0</th>\n",
       "      <td>New credit</td>\n",
       "      <td>Other, see explanation</td>\n",
       "      <td>5000.0</td>\n",
       "      <td>Application_1000086665</td>\n",
       "      <td>0</td>\n",
       "      <td>A_Create Application</td>\n",
       "      <td>User_1</td>\n",
       "      <td>Created</td>\n",
       "      <td>-5.0</td>\n",
       "      <td>Application</td>\n",
       "      <td>complete</td>\n",
       "      <td>missing</td>\n",
       "      <td>missing</td>\n",
       "      <td>0.0</td>\n",
       "      <td>0.00</td>\n",
       "      <td>0.0</td>\n",
       "      <td>0.0</td>\n",
       "      <td>0.000000</td>\n",
       "      <td>0.000000</td>\n",
       "      <td>957</td>\n",
       "      <td>1</td>\n",
       "      <td>8</td>\n",
       "      <td>2</td>\n",
       "      <td>15</td>\n",
       "      <td>2250</td>\n",
       "      <td>2016-08-03 15:57:21.673000+00:00</td>\n",
       "      <td>O_Cancelled</td>\n",
       "    </tr>\n",
       "    <tr>\n",
       "      <th>1</th>\n",
       "      <td>New credit</td>\n",
       "      <td>Other, see explanation</td>\n",
       "      <td>5000.0</td>\n",
       "      <td>Application_1000086665</td>\n",
       "      <td>0</td>\n",
       "      <td>A_Submitted</td>\n",
       "      <td>User_1</td>\n",
       "      <td>statechange</td>\n",
       "      <td>-5.0</td>\n",
       "      <td>Application</td>\n",
       "      <td>complete</td>\n",
       "      <td>missing</td>\n",
       "      <td>missing</td>\n",
       "      <td>0.0</td>\n",
       "      <td>0.00</td>\n",
       "      <td>0.0</td>\n",
       "      <td>0.0</td>\n",
       "      <td>0.001017</td>\n",
       "      <td>0.001017</td>\n",
       "      <td>957</td>\n",
       "      <td>2</td>\n",
       "      <td>8</td>\n",
       "      <td>2</td>\n",
       "      <td>15</td>\n",
       "      <td>2250</td>\n",
       "      <td>2016-08-03 15:57:21.734000+00:00</td>\n",
       "      <td>O_Cancelled</td>\n",
       "    </tr>\n",
       "    <tr>\n",
       "      <th>2</th>\n",
       "      <td>New credit</td>\n",
       "      <td>Other, see explanation</td>\n",
       "      <td>5000.0</td>\n",
       "      <td>Application_1000086665</td>\n",
       "      <td>0</td>\n",
       "      <td>W_Handle leads</td>\n",
       "      <td>User_1</td>\n",
       "      <td>Created</td>\n",
       "      <td>-5.0</td>\n",
       "      <td>Workflow</td>\n",
       "      <td>schedule</td>\n",
       "      <td>missing</td>\n",
       "      <td>missing</td>\n",
       "      <td>0.0</td>\n",
       "      <td>0.00</td>\n",
       "      <td>0.0</td>\n",
       "      <td>0.0</td>\n",
       "      <td>0.003817</td>\n",
       "      <td>0.004833</td>\n",
       "      <td>957</td>\n",
       "      <td>3</td>\n",
       "      <td>8</td>\n",
       "      <td>2</td>\n",
       "      <td>15</td>\n",
       "      <td>2250</td>\n",
       "      <td>2016-08-03 15:57:21.963000+00:00</td>\n",
       "      <td>O_Cancelled</td>\n",
       "    </tr>\n",
       "    <tr>\n",
       "      <th>3</th>\n",
       "      <td>New credit</td>\n",
       "      <td>Other, see explanation</td>\n",
       "      <td>5000.0</td>\n",
       "      <td>Application_1000086665</td>\n",
       "      <td>0</td>\n",
       "      <td>W_Handle leads</td>\n",
       "      <td>User_1</td>\n",
       "      <td>Deleted</td>\n",
       "      <td>-5.0</td>\n",
       "      <td>Workflow</td>\n",
       "      <td>withdraw</td>\n",
       "      <td>missing</td>\n",
       "      <td>missing</td>\n",
       "      <td>0.0</td>\n",
       "      <td>0.00</td>\n",
       "      <td>0.0</td>\n",
       "      <td>0.0</td>\n",
       "      <td>1.105383</td>\n",
       "      <td>1.110217</td>\n",
       "      <td>958</td>\n",
       "      <td>4</td>\n",
       "      <td>8</td>\n",
       "      <td>2</td>\n",
       "      <td>15</td>\n",
       "      <td>2250</td>\n",
       "      <td>2016-08-03 15:58:28.286000+00:00</td>\n",
       "      <td>O_Cancelled</td>\n",
       "    </tr>\n",
       "    <tr>\n",
       "      <th>4</th>\n",
       "      <td>New credit</td>\n",
       "      <td>Other, see explanation</td>\n",
       "      <td>5000.0</td>\n",
       "      <td>Application_1000086665</td>\n",
       "      <td>0</td>\n",
       "      <td>W_Complete application</td>\n",
       "      <td>User_1</td>\n",
       "      <td>Created</td>\n",
       "      <td>-5.0</td>\n",
       "      <td>Workflow</td>\n",
       "      <td>schedule</td>\n",
       "      <td>missing</td>\n",
       "      <td>missing</td>\n",
       "      <td>0.0</td>\n",
       "      <td>0.00</td>\n",
       "      <td>0.0</td>\n",
       "      <td>0.0</td>\n",
       "      <td>0.000117</td>\n",
       "      <td>1.110333</td>\n",
       "      <td>958</td>\n",
       "      <td>5</td>\n",
       "      <td>8</td>\n",
       "      <td>2</td>\n",
       "      <td>15</td>\n",
       "      <td>2250</td>\n",
       "      <td>2016-08-03 15:58:28.293000+00:00</td>\n",
       "      <td>O_Cancelled</td>\n",
       "    </tr>\n",
       "    <tr>\n",
       "      <th>...</th>\n",
       "      <td>...</td>\n",
       "      <td>...</td>\n",
       "      <td>...</td>\n",
       "      <td>...</td>\n",
       "      <td>...</td>\n",
       "      <td>...</td>\n",
       "      <td>...</td>\n",
       "      <td>...</td>\n",
       "      <td>...</td>\n",
       "      <td>...</td>\n",
       "      <td>...</td>\n",
       "      <td>...</td>\n",
       "      <td>...</td>\n",
       "      <td>...</td>\n",
       "      <td>...</td>\n",
       "      <td>...</td>\n",
       "      <td>...</td>\n",
       "      <td>...</td>\n",
       "      <td>...</td>\n",
       "      <td>...</td>\n",
       "      <td>...</td>\n",
       "      <td>...</td>\n",
       "      <td>...</td>\n",
       "      <td>...</td>\n",
       "      <td>...</td>\n",
       "      <td>...</td>\n",
       "      <td>...</td>\n",
       "    </tr>\n",
       "    <tr>\n",
       "      <th>1070974</th>\n",
       "      <td>New credit</td>\n",
       "      <td>Caravan / Camper</td>\n",
       "      <td>30000.0</td>\n",
       "      <td>Application_999993812</td>\n",
       "      <td>1</td>\n",
       "      <td>W_Call incomplete files</td>\n",
       "      <td>Other_infrequent</td>\n",
       "      <td>Obtained</td>\n",
       "      <td>877.0</td>\n",
       "      <td>Workflow</td>\n",
       "      <td>start</td>\n",
       "      <td>True</td>\n",
       "      <td>True</td>\n",
       "      <td>30000.0</td>\n",
       "      <td>349.13</td>\n",
       "      <td>102.0</td>\n",
       "      <td>30000.0</td>\n",
       "      <td>0.000033</td>\n",
       "      <td>18647.419867</td>\n",
       "      <td>764</td>\n",
       "      <td>28</td>\n",
       "      <td>10</td>\n",
       "      <td>2</td>\n",
       "      <td>12</td>\n",
       "      <td>2320</td>\n",
       "      <td>2016-10-19 12:44:29.291000+00:00</td>\n",
       "      <td>O_Accepted</td>\n",
       "    </tr>\n",
       "    <tr>\n",
       "      <th>1070975</th>\n",
       "      <td>New credit</td>\n",
       "      <td>Caravan / Camper</td>\n",
       "      <td>30000.0</td>\n",
       "      <td>Application_999993812</td>\n",
       "      <td>1</td>\n",
       "      <td>A_Incomplete</td>\n",
       "      <td>Other_infrequent</td>\n",
       "      <td>statechange</td>\n",
       "      <td>877.0</td>\n",
       "      <td>Application</td>\n",
       "      <td>complete</td>\n",
       "      <td>True</td>\n",
       "      <td>True</td>\n",
       "      <td>30000.0</td>\n",
       "      <td>349.13</td>\n",
       "      <td>102.0</td>\n",
       "      <td>30000.0</td>\n",
       "      <td>0.000017</td>\n",
       "      <td>18647.419883</td>\n",
       "      <td>764</td>\n",
       "      <td>29</td>\n",
       "      <td>10</td>\n",
       "      <td>2</td>\n",
       "      <td>12</td>\n",
       "      <td>2320</td>\n",
       "      <td>2016-10-19 12:44:29.292000+00:00</td>\n",
       "      <td>O_Accepted</td>\n",
       "    </tr>\n",
       "    <tr>\n",
       "      <th>1070976</th>\n",
       "      <td>New credit</td>\n",
       "      <td>Caravan / Camper</td>\n",
       "      <td>30000.0</td>\n",
       "      <td>Application_999993812</td>\n",
       "      <td>1</td>\n",
       "      <td>W_Call incomplete files</td>\n",
       "      <td>Other_infrequent</td>\n",
       "      <td>Released</td>\n",
       "      <td>877.0</td>\n",
       "      <td>Workflow</td>\n",
       "      <td>suspend</td>\n",
       "      <td>True</td>\n",
       "      <td>True</td>\n",
       "      <td>30000.0</td>\n",
       "      <td>349.13</td>\n",
       "      <td>102.0</td>\n",
       "      <td>30000.0</td>\n",
       "      <td>0.097367</td>\n",
       "      <td>18647.517250</td>\n",
       "      <td>764</td>\n",
       "      <td>30</td>\n",
       "      <td>10</td>\n",
       "      <td>2</td>\n",
       "      <td>12</td>\n",
       "      <td>2320</td>\n",
       "      <td>2016-10-19 12:44:35.134000+00:00</td>\n",
       "      <td>O_Accepted</td>\n",
       "    </tr>\n",
       "    <tr>\n",
       "      <th>1070977</th>\n",
       "      <td>New credit</td>\n",
       "      <td>Caravan / Camper</td>\n",
       "      <td>30000.0</td>\n",
       "      <td>Application_999993812</td>\n",
       "      <td>1</td>\n",
       "      <td>W_Call incomplete files</td>\n",
       "      <td>Other_infrequent</td>\n",
       "      <td>Obtained</td>\n",
       "      <td>877.0</td>\n",
       "      <td>Workflow</td>\n",
       "      <td>resume</td>\n",
       "      <td>True</td>\n",
       "      <td>True</td>\n",
       "      <td>30000.0</td>\n",
       "      <td>349.13</td>\n",
       "      <td>102.0</td>\n",
       "      <td>30000.0</td>\n",
       "      <td>1174.894633</td>\n",
       "      <td>19822.411883</td>\n",
       "      <td>499</td>\n",
       "      <td>31</td>\n",
       "      <td>10</td>\n",
       "      <td>3</td>\n",
       "      <td>8</td>\n",
       "      <td>2320</td>\n",
       "      <td>2016-10-20 08:19:28.812000+00:00</td>\n",
       "      <td>O_Accepted</td>\n",
       "    </tr>\n",
       "    <tr>\n",
       "      <th>1070978</th>\n",
       "      <td>New credit</td>\n",
       "      <td>Caravan / Camper</td>\n",
       "      <td>30000.0</td>\n",
       "      <td>Application_999993812</td>\n",
       "      <td>1</td>\n",
       "      <td>W_Call incomplete files</td>\n",
       "      <td>Other_infrequent</td>\n",
       "      <td>Released</td>\n",
       "      <td>877.0</td>\n",
       "      <td>Workflow</td>\n",
       "      <td>suspend</td>\n",
       "      <td>True</td>\n",
       "      <td>True</td>\n",
       "      <td>30000.0</td>\n",
       "      <td>349.13</td>\n",
       "      <td>102.0</td>\n",
       "      <td>30000.0</td>\n",
       "      <td>2.514250</td>\n",
       "      <td>19824.926133</td>\n",
       "      <td>501</td>\n",
       "      <td>32</td>\n",
       "      <td>10</td>\n",
       "      <td>3</td>\n",
       "      <td>8</td>\n",
       "      <td>2321</td>\n",
       "      <td>2016-10-20 08:21:59.667000+00:00</td>\n",
       "      <td>O_Accepted</td>\n",
       "    </tr>\n",
       "  </tbody>\n",
       "</table>\n",
       "<p>1070979 rows × 27 columns</p>\n",
       "</div>"
      ],
      "text/plain": [
       "        case:ApplicationType           case:LoanGoal  case:RequestedAmount  \\\n",
       "0                 New credit  Other, see explanation                5000.0   \n",
       "1                 New credit  Other, see explanation                5000.0   \n",
       "2                 New credit  Other, see explanation                5000.0   \n",
       "3                 New credit  Other, see explanation                5000.0   \n",
       "4                 New credit  Other, see explanation                5000.0   \n",
       "...                      ...                     ...                   ...   \n",
       "1070974           New credit        Caravan / Camper               30000.0   \n",
       "1070975           New credit        Caravan / Camper               30000.0   \n",
       "1070976           New credit        Caravan / Camper               30000.0   \n",
       "1070977           New credit        Caravan / Camper               30000.0   \n",
       "1070978           New credit        Caravan / Camper               30000.0   \n",
       "\n",
       "              case:concept:name  label             concept:name  \\\n",
       "0        Application_1000086665      0     A_Create Application   \n",
       "1        Application_1000086665      0              A_Submitted   \n",
       "2        Application_1000086665      0           W_Handle leads   \n",
       "3        Application_1000086665      0           W_Handle leads   \n",
       "4        Application_1000086665      0   W_Complete application   \n",
       "...                         ...    ...                      ...   \n",
       "1070974   Application_999993812      1  W_Call incomplete files   \n",
       "1070975   Application_999993812      1             A_Incomplete   \n",
       "1070976   Application_999993812      1  W_Call incomplete files   \n",
       "1070977   Application_999993812      1  W_Call incomplete files   \n",
       "1070978   Application_999993812      1  W_Call incomplete files   \n",
       "\n",
       "             org:resource       Action  CreditScore  EventOrigin  \\\n",
       "0                  User_1      Created         -5.0  Application   \n",
       "1                  User_1  statechange         -5.0  Application   \n",
       "2                  User_1      Created         -5.0     Workflow   \n",
       "3                  User_1      Deleted         -5.0     Workflow   \n",
       "4                  User_1      Created         -5.0     Workflow   \n",
       "...                   ...          ...          ...          ...   \n",
       "1070974  Other_infrequent     Obtained        877.0     Workflow   \n",
       "1070975  Other_infrequent  statechange        877.0  Application   \n",
       "1070976  Other_infrequent     Released        877.0     Workflow   \n",
       "1070977  Other_infrequent     Obtained        877.0     Workflow   \n",
       "1070978  Other_infrequent     Released        877.0     Workflow   \n",
       "\n",
       "        lifecycle:transition Accepted Selected  FirstWithdrawalAmount  \\\n",
       "0                   complete  missing  missing                    0.0   \n",
       "1                   complete  missing  missing                    0.0   \n",
       "2                   schedule  missing  missing                    0.0   \n",
       "3                   withdraw  missing  missing                    0.0   \n",
       "4                   schedule  missing  missing                    0.0   \n",
       "...                      ...      ...      ...                    ...   \n",
       "1070974                start     True     True                30000.0   \n",
       "1070975             complete     True     True                30000.0   \n",
       "1070976              suspend     True     True                30000.0   \n",
       "1070977               resume     True     True                30000.0   \n",
       "1070978              suspend     True     True                30000.0   \n",
       "\n",
       "         MonthlyCost  NumberOfTerms  OfferedAmount  timesincelastevent  \\\n",
       "0               0.00            0.0            0.0            0.000000   \n",
       "1               0.00            0.0            0.0            0.001017   \n",
       "2               0.00            0.0            0.0            0.003817   \n",
       "3               0.00            0.0            0.0            1.105383   \n",
       "4               0.00            0.0            0.0            0.000117   \n",
       "...              ...            ...            ...                 ...   \n",
       "1070974       349.13          102.0        30000.0            0.000033   \n",
       "1070975       349.13          102.0        30000.0            0.000017   \n",
       "1070976       349.13          102.0        30000.0            0.097367   \n",
       "1070977       349.13          102.0        30000.0         1174.894633   \n",
       "1070978       349.13          102.0        30000.0            2.514250   \n",
       "\n",
       "         timesincecasestart  timesincemidnight  event_nr  month  weekday  \\\n",
       "0                  0.000000                957         1      8        2   \n",
       "1                  0.001017                957         2      8        2   \n",
       "2                  0.004833                957         3      8        2   \n",
       "3                  1.110217                958         4      8        2   \n",
       "4                  1.110333                958         5      8        2   \n",
       "...                     ...                ...       ...    ...      ...   \n",
       "1070974        18647.419867                764        28     10        2   \n",
       "1070975        18647.419883                764        29     10        2   \n",
       "1070976        18647.517250                764        30     10        2   \n",
       "1070977        19822.411883                499        31     10        3   \n",
       "1070978        19824.926133                501        32     10        3   \n",
       "\n",
       "         hour  open_cases                    time:timestamp last_o_activity  \n",
       "0          15        2250  2016-08-03 15:57:21.673000+00:00     O_Cancelled  \n",
       "1          15        2250  2016-08-03 15:57:21.734000+00:00     O_Cancelled  \n",
       "2          15        2250  2016-08-03 15:57:21.963000+00:00     O_Cancelled  \n",
       "3          15        2250  2016-08-03 15:58:28.286000+00:00     O_Cancelled  \n",
       "4          15        2250  2016-08-03 15:58:28.293000+00:00     O_Cancelled  \n",
       "...       ...         ...                               ...             ...  \n",
       "1070974    12        2320  2016-10-19 12:44:29.291000+00:00      O_Accepted  \n",
       "1070975    12        2320  2016-10-19 12:44:29.292000+00:00      O_Accepted  \n",
       "1070976    12        2320  2016-10-19 12:44:35.134000+00:00      O_Accepted  \n",
       "1070977     8        2320  2016-10-20 08:19:28.812000+00:00      O_Accepted  \n",
       "1070978     8        2321  2016-10-20 08:21:59.667000+00:00      O_Accepted  \n",
       "\n",
       "[1070979 rows x 27 columns]"
      ]
     },
     "execution_count": 28,
     "metadata": {},
     "output_type": "execute_result"
    }
   ],
   "source": [
    "data_labeled"
   ]
  },
  {
   "cell_type": "code",
   "execution_count": 29,
   "id": "a1d02c0a",
   "metadata": {},
   "outputs": [
    {
     "data": {
      "text/plain": [
       "[['concept:name', 'org:resource', 'Action', 'lifecycle:transition'],\n",
       " ['case:ApplicationType', 'case:LoanGoal', 'EventOrigin'],\n",
       " ['CreditScore',\n",
       "  'FirstWithdrawalAmount',\n",
       "  'MonthlyCost',\n",
       "  'NumberOfTerms',\n",
       "  'OfferedAmount',\n",
       "  'timesincelastevent',\n",
       "  'timesincecasestart',\n",
       "  'timesincemidnight',\n",
       "  'event_nr',\n",
       "  'month',\n",
       "  'weekday',\n",
       "  'hour',\n",
       "  'open_cases'],\n",
       " ['case:RequestedAmount']]"
      ]
     },
     "execution_count": 29,
     "metadata": {},
     "output_type": "execute_result"
    }
   ],
   "source": [
    "dl_attributes"
   ]
  },
  {
   "cell_type": "markdown",
   "id": "b0b3ab10",
   "metadata": {},
   "source": [
    "# Prediction Pipeline"
   ]
  },
  {
   "cell_type": "markdown",
   "id": "d824f0f0",
   "metadata": {},
   "source": [
    "### Bucket Traces And Remove Outcome Specific Events & Features"
   ]
  },
  {
   "cell_type": "code",
   "execution_count": 30,
   "id": "360c28a2",
   "metadata": {},
   "outputs": [
    {
     "name": "stdout",
     "output_type": "stream",
     "text": [
      "Binning and Grouping infrequent factor levels to: Other_infrequent\n",
      "Making predictions after 10 completed events\n",
      "Making predictions at time after cases have started on average:  26.7 hours/ 1.112 days\n",
      "Making predictions at time before cases have finished on average:  450.0 hours/ 18.7 days\n",
      "\n",
      " Shape: (313787, 27)\n",
      "Features removed:  3\n",
      "\n",
      " Events included:\n",
      "['A_Create Application' 'A_Submitted' 'W_Handle leads'\n",
      " 'W_Complete application' 'A_Concept' 'A_Accepted' 'O_Create Offer'\n",
      " 'O_Created' 'O_Sent (mail and online)' 'W_Call after offers'\n",
      " 'O_Sent (online only)' 'W_Assess potential fraud' 'A_Cancelled'\n",
      " 'W_Shortened completion ' 'A_Denied']\n"
     ]
    }
   ],
   "source": [
    "data_labeled_grouped = group_infrequent_features(data_labeled, max_category_levels = 15)\n",
    "#trace_bucket = create_mixed_bucket(data_labeled_grouped, min_event_length=5, max_event_length=20)\n",
    "trace_bucket = create_trace_bucket(data_labeled_grouped, 10) #select prefix length\n",
    "trace_bucket = remove_features(trace_bucket, dl_attributes[0], dl_attributes[1], dl_attributes[2], dl_attributes[3])\n",
    "trace_bucket = remove_events(data_labeled, trace_bucket, drop_events_list)"
   ]
  },
  {
   "cell_type": "markdown",
   "id": "bb71f8dc",
   "metadata": {},
   "source": [
    "### Train Test Split "
   ]
  },
  {
   "cell_type": "code",
   "execution_count": 31,
   "id": "3d15ea34",
   "metadata": {},
   "outputs": [
    {
     "name": "stdout",
     "output_type": "stream",
     "text": [
      "250531 train events\n",
      "62753 test events\n",
      "25130 train cases\n",
      "6283 test cases\n"
     ]
    }
   ],
   "source": [
    "train_raw, test_raw = split_data_temporal(data=trace_bucket, train_ratio=0.8)\n",
    "\n",
    "print(len(train_raw), 'train events')\n",
    "print(len(test_raw), 'test events')\n",
    "print(len(train_raw.groupby(case_id_col).count()), 'train cases')\n",
    "print(len(test_raw.groupby(case_id_col).count()), 'test cases')"
   ]
  },
  {
   "cell_type": "markdown",
   "id": "78698564",
   "metadata": {},
   "source": [
    "### Sequence Encoding\n",
    "\n",
    "- One Hot Encoding for events and categorical features \n",
    "- Max aggregations for numerical features"
   ]
  },
  {
   "cell_type": "code",
   "execution_count": 32,
   "id": "c61fe904",
   "metadata": {},
   "outputs": [],
   "source": [
    "#event_categorical_attributes, case_categorical_attributes, event_numeric_attributes, case_numeric_attributes\n",
    "#dl_attributes\n",
    "\n",
    "sequence_encoding_setting = dict(case_id_col=case_id_col, \n",
    "                          activity_col=activity_col,\n",
    "                          label_col=label_col,\n",
    "                          case_numeric_attributes=dl_attributes[3],\n",
    "                          case_categorical_attributes=dl_attributes[1],\n",
    "                          event_numeric_attributes=dl_attributes[2],\n",
    "                          event_categorical_attributes=dl_attributes[0],\n",
    "                            d_event_sequence = False,\n",
    "                            d_event = True,\n",
    "                            d_event_categorical = True,\n",
    "                            d_case_categorical = True,\n",
    "                            one_hot_case_categorical = True,   \n",
    "                            d_event_numeric = True,\n",
    "                            d_case_numeric = True)"
   ]
  },
  {
   "cell_type": "code",
   "execution_count": 33,
   "id": "5cd95b95",
   "metadata": {},
   "outputs": [],
   "source": [
    "train = aggregate_data(train_raw, \n",
    "                       **sequence_encoding_setting)\n",
    "\n",
    "test = aggregate_data(test_raw, \n",
    "                       **sequence_encoding_setting)"
   ]
  },
  {
   "cell_type": "code",
   "execution_count": 34,
   "id": "7ea754c7",
   "metadata": {},
   "outputs": [
    {
     "name": "stdout",
     "output_type": "stream",
     "text": [
      "[] []\n"
     ]
    }
   ],
   "source": [
    "train, test = replace_missing_cols(train, test)"
   ]
  },
  {
   "cell_type": "markdown",
   "id": "e3247cba",
   "metadata": {},
   "source": [
    "# Classical Machine Learning Classifiers"
   ]
  },
  {
   "cell_type": "code",
   "execution_count": 35,
   "id": "0ad69eee",
   "metadata": {},
   "outputs": [
    {
     "name": "stdout",
     "output_type": "stream",
     "text": [
      "Undersampling Train Data\n",
      "(20546, 71) (6283, 71)\n"
     ]
    }
   ],
   "source": [
    "X_train, y_train, X_test, y_test = prepare_ml_train_test(train,test, balanced=True)"
   ]
  },
  {
   "cell_type": "markdown",
   "id": "0b95a1de",
   "metadata": {},
   "source": [
    "### Pred Mixed Bucket"
   ]
  },
  {
   "cell_type": "code",
   "execution_count": 36,
   "id": "a2cb434e",
   "metadata": {},
   "outputs": [
    {
     "data": {
      "text/plain": [
       "'\\n#Trace Bucket Test\\nids = test_raw[case_id_col].unique()\\ntmp = data[data[case_id_col].isin(ids)]\\ntrace_bucket_test = create_trace_bucket(tmp, 15)\\n\\ntest_bucket = aggregate_data(trace_bucket_test, \\n                            **sequence_encoding_setting)\\n\\ntrain, test = replace_missing_cols(train, test_bucket)\\n\\nX_train, y_train, X_test, y_test = prepare_ml_train_test(train,test, balanced=False)\\n\\nfrom sklearn.ensemble import RandomForestClassifier\\nclf_rf = RandomForestClassifier()\\nclf_rf.fit(X_train, y_train)\\nget_evaluation_metrics(clf_rf, X_test, y_test, X_train, y_train)\\n\\nfrom catboost import CatBoostClassifier\\nclf_cbc = CatBoostClassifier(silent=True)\\nclf_cbc.fit(X_train, y_train)\\nget_evaluation_metrics(clf_cbc, X_test, y_test, X_train, y_train)\\n'"
      ]
     },
     "execution_count": 36,
     "metadata": {},
     "output_type": "execute_result"
    }
   ],
   "source": [
    "\"\"\"\n",
    "#Trace Bucket Test\n",
    "ids = test_raw[case_id_col].unique()\n",
    "tmp = data[data[case_id_col].isin(ids)]\n",
    "trace_bucket_test = create_trace_bucket(tmp, 15)\n",
    "\n",
    "test_bucket = aggregate_data(trace_bucket_test, \n",
    "                            **sequence_encoding_setting)\n",
    "\n",
    "train, test = replace_missing_cols(train, test_bucket)\n",
    "\n",
    "X_train, y_train, X_test, y_test = prepare_ml_train_test(train,test, balanced=False)\n",
    "\n",
    "from sklearn.ensemble import RandomForestClassifier\n",
    "clf_rf = RandomForestClassifier()\n",
    "clf_rf.fit(X_train, y_train)\n",
    "get_evaluation_metrics(clf_rf, X_test, y_test, X_train, y_train)\n",
    "\n",
    "from catboost import CatBoostClassifier\n",
    "clf_cbc = CatBoostClassifier(silent=True)\n",
    "clf_cbc.fit(X_train, y_train)\n",
    "get_evaluation_metrics(clf_cbc, X_test, y_test, X_train, y_train)\n",
    "\"\"\""
   ]
  },
  {
   "cell_type": "code",
   "execution_count": 37,
   "id": "27b01589",
   "metadata": {},
   "outputs": [],
   "source": [
    "#y_train = y_train.label.ravel()\n",
    "#X_train = X_train.to_numpy()\n",
    "#y_test = y_test.label.ravel()\n",
    "#X_test = X_test.to_numpy()"
   ]
  },
  {
   "cell_type": "markdown",
   "id": "3ae2a7fe",
   "metadata": {},
   "source": [
    "### Logistic Regression"
   ]
  },
  {
   "cell_type": "code",
   "execution_count": 38,
   "id": "91fa6c41",
   "metadata": {},
   "outputs": [
    {
     "name": "stdout",
     "output_type": "stream",
     "text": [
      "Confusion Matrix:\n",
      "[[3598  166]\n",
      " [1017 1502]]\n",
      "              precision    recall  f1-score   support\n",
      "\n",
      "           0       0.78      0.96      0.86      3764\n",
      "           1       0.90      0.60      0.72      2519\n",
      "\n",
      "    accuracy                           0.81      6283\n",
      "   macro avg       0.84      0.78      0.79      6283\n",
      "weighted avg       0.83      0.81      0.80      6283\n",
      "\n",
      "Accuracy: 0.812 (Train: 0.768 )\n",
      "AUC: 0.846\n",
      "F1: 0.788\n",
      "MCC: 0.613\n",
      "Sensitivity :  0.956\n",
      "Specificity :  0.596\n",
      "Wall time: 480 ms\n"
     ]
    }
   ],
   "source": [
    "%%time\n",
    "from sklearn.linear_model import LogisticRegression\n",
    "clf_lr = LogisticRegression(random_state=0)\n",
    "clf_lr.fit(X_train, y_train)\n",
    "mertrics = get_evaluation_metrics(clf_lr, X_test, y_test, X_train, y_train)"
   ]
  },
  {
   "cell_type": "markdown",
   "id": "8a94d815",
   "metadata": {},
   "source": [
    "### Random Forest"
   ]
  },
  {
   "cell_type": "code",
   "execution_count": 39,
   "id": "f1998da6",
   "metadata": {},
   "outputs": [
    {
     "name": "stdout",
     "output_type": "stream",
     "text": [
      "Confusion Matrix:\n",
      "[[3189  575]\n",
      " [ 546 1973]]\n",
      "              precision    recall  f1-score   support\n",
      "\n",
      "           0       0.85      0.85      0.85      3764\n",
      "           1       0.77      0.78      0.78      2519\n",
      "\n",
      "    accuracy                           0.82      6283\n",
      "   macro avg       0.81      0.82      0.81      6283\n",
      "weighted avg       0.82      0.82      0.82      6283\n",
      "\n",
      "Accuracy: 0.822 (Train: 1.0 )\n",
      "AUC: 0.907\n",
      "F1: 0.815\n",
      "MCC: 0.629\n",
      "Sensitivity :  0.847\n",
      "Specificity :  0.783\n",
      "Wall time: 4.34 s\n"
     ]
    }
   ],
   "source": [
    "%%time\n",
    "from sklearn.ensemble import RandomForestClassifier\n",
    "clf_rf = RandomForestClassifier()\n",
    "clf_rf.fit(X_train, y_train)\n",
    "mertrics = get_evaluation_metrics(clf_rf, X_test, y_test, X_train, y_train)"
   ]
  },
  {
   "cell_type": "markdown",
   "id": "261048cf",
   "metadata": {},
   "source": [
    "### XGBoost"
   ]
  },
  {
   "cell_type": "code",
   "execution_count": 40,
   "id": "c4f3a27f",
   "metadata": {},
   "outputs": [
    {
     "name": "stdout",
     "output_type": "stream",
     "text": [
      "[11:45:41] WARNING: C:/Users/Administrator/workspace/xgboost-win64_release_1.4.0/src/learner.cc:1095: Starting in XGBoost 1.3.0, the default evaluation metric used with the objective 'binary:logistic' was changed from 'error' to 'logloss'. Explicitly set eval_metric if you'd like to restore the old behavior.\n",
      "Confusion Matrix:\n",
      "[[3398  366]\n",
      " [ 668 1851]]\n",
      "              precision    recall  f1-score   support\n",
      "\n",
      "           0       0.84      0.90      0.87      3764\n",
      "           1       0.83      0.73      0.78      2519\n",
      "\n",
      "    accuracy                           0.84      6283\n",
      "   macro avg       0.84      0.82      0.82      6283\n",
      "weighted avg       0.84      0.84      0.83      6283\n",
      "\n",
      "Accuracy: 0.835 (Train: 0.904 )\n",
      "AUC: 0.907\n",
      "F1: 0.825\n",
      "MCC: 0.654\n",
      "Sensitivity :  0.903\n",
      "Specificity :  0.735\n",
      "Wall time: 3.27 s\n"
     ]
    }
   ],
   "source": [
    "%%time\n",
    "import xgboost as xgb\n",
    "clf_xgb = xgb.XGBClassifier()\n",
    "clf_xgb.fit(X_train, y_train)\n",
    "mertrics = get_evaluation_metrics(clf_xgb, X_test, y_test, X_train, y_train)"
   ]
  },
  {
   "cell_type": "markdown",
   "id": "c95ab24d",
   "metadata": {},
   "source": [
    "### CatBoost"
   ]
  },
  {
   "cell_type": "code",
   "execution_count": 41,
   "id": "1b24b98a",
   "metadata": {},
   "outputs": [
    {
     "name": "stdout",
     "output_type": "stream",
     "text": [
      "Confusion Matrix:\n",
      "[[3172  592]\n",
      " [ 508 2011]]\n",
      "              precision    recall  f1-score   support\n",
      "\n",
      "           0       0.86      0.84      0.85      3764\n",
      "           1       0.77      0.80      0.79      2519\n",
      "\n",
      "    accuracy                           0.82      6283\n",
      "   macro avg       0.82      0.82      0.82      6283\n",
      "weighted avg       0.83      0.82      0.83      6283\n",
      "\n",
      "Accuracy: 0.825 (Train: 0.868 )\n",
      "AUC: 0.913\n",
      "F1: 0.819\n",
      "MCC: 0.638\n",
      "Sensitivity :  0.843\n",
      "Specificity :  0.798\n",
      "Wall time: 13.6 s\n"
     ]
    }
   ],
   "source": [
    "%%time\n",
    "from catboost import CatBoostClassifier\n",
    "clf_cbc = CatBoostClassifier(silent=True)\n",
    "clf_cbc.fit(X_train, y_train)\n",
    "mertrics = get_evaluation_metrics(clf_cbc, X_test, y_test, X_train, y_train)"
   ]
  },
  {
   "cell_type": "markdown",
   "id": "028c7251",
   "metadata": {},
   "source": [
    "### ExplainableBoostingClassifier"
   ]
  },
  {
   "cell_type": "code",
   "execution_count": 42,
   "id": "2e77c626",
   "metadata": {},
   "outputs": [
    {
     "name": "stdout",
     "output_type": "stream",
     "text": [
      "Confusion Matrix:\n",
      "[[3390  374]\n",
      " [ 654 1865]]\n",
      "              precision    recall  f1-score   support\n",
      "\n",
      "           0       0.84      0.90      0.87      3764\n",
      "           1       0.83      0.74      0.78      2519\n",
      "\n",
      "    accuracy                           0.84      6283\n",
      "   macro avg       0.84      0.82      0.83      6283\n",
      "weighted avg       0.84      0.84      0.83      6283\n",
      "\n",
      "Accuracy: 0.836 (Train: 0.823 )\n",
      "AUC: 0.91\n",
      "F1: 0.826\n",
      "MCC: 0.656\n",
      "Sensitivity :  0.901\n",
      "Specificity :  0.74\n",
      "Wall time: 1min 2s\n"
     ]
    }
   ],
   "source": [
    "%%time\n",
    "from interpret.glassbox import ExplainableBoostingClassifier\n",
    "clf_ebm = ExplainableBoostingClassifier()\n",
    "clf_ebm.fit(X_train, y_train)\n",
    "mertrics = get_evaluation_metrics(clf_ebm, X_test, y_test, X_train, y_train)"
   ]
  },
  {
   "cell_type": "markdown",
   "id": "94600d1f",
   "metadata": {},
   "source": [
    "## Deep Learning Classifiers"
   ]
  },
  {
   "cell_type": "code",
   "execution_count": 43,
   "id": "feef41d4",
   "metadata": {},
   "outputs": [
    {
     "name": "stdout",
     "output_type": "stream",
     "text": [
      "[] []\n"
     ]
    }
   ],
   "source": [
    "train, test = scale_data(train_raw, test_raw)\n",
    "train = one_hot_encode(train)\n",
    "test = one_hot_encode(test)\n",
    "train, test = replace_missing_cols(train, test)\n",
    "\n",
    "X_train_dl, y_train_dl, feature_names = prepare_dl_train_test(train, 5)\n",
    "X_test_dl, y_test_dl, feature_names = prepare_dl_train_test(test, 5)"
   ]
  },
  {
   "cell_type": "markdown",
   "id": "5f2e001e",
   "metadata": {},
   "source": [
    "### CNN"
   ]
  },
  {
   "cell_type": "code",
   "execution_count": 44,
   "id": "9c5113e1",
   "metadata": {},
   "outputs": [
    {
     "name": "stdout",
     "output_type": "stream",
     "text": [
      "Model: \"CNN\"\n",
      "_________________________________________________________________\n",
      "Layer (type)                 Output Shape              Param #   \n",
      "=================================================================\n",
      "conv1d_4 (Conv1D)            (None, 5, 8)              10232     \n",
      "_________________________________________________________________\n",
      "conv1d_5 (Conv1D)            (None, 5, 4)              36        \n",
      "_________________________________________________________________\n",
      "dropout_6 (Dropout)          (None, 5, 4)              0         \n",
      "_________________________________________________________________\n",
      "max_pooling1d_2 (MaxPooling1 (None, 2, 4)              0         \n",
      "_________________________________________________________________\n",
      "flatten_2 (Flatten)          (None, 8)                 0         \n",
      "_________________________________________________________________\n",
      "dense_14 (Dense)             (None, 256)               2304      \n",
      "_________________________________________________________________\n",
      "activation_10 (Activation)   (None, 256)               0         \n",
      "_________________________________________________________________\n",
      "dense_15 (Dense)             (None, 256)               65792     \n",
      "_________________________________________________________________\n",
      "activation_11 (Activation)   (None, 256)               0         \n",
      "_________________________________________________________________\n",
      "dropout_7 (Dropout)          (None, 256)               0         \n",
      "_________________________________________________________________\n",
      "dense_16 (Dense)             (None, 256)               65792     \n",
      "_________________________________________________________________\n",
      "activation_12 (Activation)   (None, 256)               0         \n",
      "_________________________________________________________________\n",
      "dense_17 (Dense)             (None, 64)                16448     \n",
      "_________________________________________________________________\n",
      "activation_13 (Activation)   (None, 64)                0         \n",
      "_________________________________________________________________\n",
      "dropout_8 (Dropout)          (None, 64)                0         \n",
      "_________________________________________________________________\n",
      "dense_18 (Dense)             (None, 128)               8320      \n",
      "_________________________________________________________________\n",
      "activation_14 (Activation)   (None, 128)               0         \n",
      "_________________________________________________________________\n",
      "dense_19 (Dense)             (None, 1)                 129       \n",
      "=================================================================\n",
      "Total params: 169,053\n",
      "Trainable params: 169,053\n",
      "Non-trainable params: 0\n",
      "_________________________________________________________________\n",
      "None\n",
      "{0: 0.8457292858585179, 1: 1.2231091209967877}\n",
      "Epoch 1/20\n",
      "786/786 [==============================] - 5s 5ms/step - loss: 0.5298 - auc: 0.7874 - acc: 0.7217 - val_loss: 0.3742 - val_auc: 0.9030 - val_acc: 0.8340\n",
      "Epoch 2/20\n",
      "786/786 [==============================] - 4s 5ms/step - loss: 0.3984 - auc: 0.8967 - acc: 0.8248 - val_loss: 0.3741 - val_auc: 0.9080 - val_acc: 0.8369\n",
      "Epoch 3/20\n",
      "786/786 [==============================] - 4s 5ms/step - loss: 0.3887 - auc: 0.9015 - acc: 0.8291 - val_loss: 0.3655 - val_auc: 0.9098 - val_acc: 0.8410\n",
      "Epoch 4/20\n",
      "786/786 [==============================] - 4s 5ms/step - loss: 0.3874 - auc: 0.9014 - acc: 0.8310 - val_loss: 0.3620 - val_auc: 0.9105 - val_acc: 0.8397\n",
      "Epoch 5/20\n",
      "786/786 [==============================] - 4s 5ms/step - loss: 0.3826 - auc: 0.9040 - acc: 0.8303 - val_loss: 0.3654 - val_auc: 0.9096 - val_acc: 0.8397\n",
      "Epoch 6/20\n",
      "786/786 [==============================] - 4s 5ms/step - loss: 0.3822 - auc: 0.9035 - acc: 0.8321 - val_loss: 0.3614 - val_auc: 0.9119 - val_acc: 0.8413\n",
      "Epoch 7/20\n",
      "786/786 [==============================] - 4s 5ms/step - loss: 0.3804 - auc: 0.9043 - acc: 0.8317 - val_loss: 0.3597 - val_auc: 0.9115 - val_acc: 0.8413\n",
      "Epoch 8/20\n",
      "786/786 [==============================] - 3s 4ms/step - loss: 0.3787 - auc: 0.9054 - acc: 0.8331 - val_loss: 0.3580 - val_auc: 0.9131 - val_acc: 0.8413\n",
      "Epoch 9/20\n",
      "786/786 [==============================] - 4s 5ms/step - loss: 0.3749 - auc: 0.9069 - acc: 0.8340 - val_loss: 0.3571 - val_auc: 0.9122 - val_acc: 0.8415\n",
      "Epoch 10/20\n",
      "786/786 [==============================] - 4s 5ms/step - loss: 0.3746 - auc: 0.9076 - acc: 0.8350 - val_loss: 0.3592 - val_auc: 0.9116 - val_acc: 0.8392\n",
      "Epoch 11/20\n",
      "786/786 [==============================] - 4s 5ms/step - loss: 0.3763 - auc: 0.9060 - acc: 0.8352 - val_loss: 0.3568 - val_auc: 0.9123 - val_acc: 0.8429\n",
      "Epoch 12/20\n",
      "786/786 [==============================] - 4s 5ms/step - loss: 0.3736 - auc: 0.9081 - acc: 0.8362 - val_loss: 0.3588 - val_auc: 0.9120 - val_acc: 0.8392\n",
      "Epoch 13/20\n",
      "786/786 [==============================] - 4s 5ms/step - loss: 0.3752 - auc: 0.9069 - acc: 0.8339 - val_loss: 0.3586 - val_auc: 0.9119 - val_acc: 0.8391\n",
      "Epoch 14/20\n",
      "786/786 [==============================] - 3s 4ms/step - loss: 0.3730 - auc: 0.9076 - acc: 0.8358 - val_loss: 0.3580 - val_auc: 0.9127 - val_acc: 0.8399\n",
      "Confusion Matrix:\n",
      "[[3420  344]\n",
      " [ 662 1857]]\n",
      "              precision    recall  f1-score   support\n",
      "\n",
      "           0       0.84      0.91      0.87      3764\n",
      "           1       0.84      0.74      0.79      2519\n",
      "\n",
      "    accuracy                           0.84      6283\n",
      "   macro avg       0.84      0.82      0.83      6283\n",
      "weighted avg       0.84      0.84      0.84      6283\n",
      "\n",
      "Accuracy: 0.84 (Train: 0.837 )\n",
      "AUC: 0.913\n",
      "F1: 0.829\n",
      "MCC: 0.663\n",
      "Sensitivity :  0.909\n",
      "Specificity :  0.737\n"
     ]
    },
    {
     "data": {
      "image/png": "[encoded data removed]",
      "text/plain": [
       "<Figure size 432x288 with 2 Axes>"
      ]
     },
     "metadata": {
      "needs_background": "light"
     },
     "output_type": "display_data"
    },
    {
     "name": "stdout",
     "output_type": "stream",
     "text": [
      "Wall time: 56.8 s\n"
     ]
    }
   ],
   "source": [
    "%%time\n",
    "## DL Model Training and Evaluation\n",
    "model_structure = get_cnn_clf(X_train_dl)\n",
    "\n",
    "model, hist = train_model(model_structure, X_train_dl, X_test_dl, y_train_dl, y_test_dl, \n",
    "                    verbose=True, weighted=True, epochs=20, batch_size=32)\n",
    "\n",
    "metrics = get_evaluation_metrics(model, X_test_dl, y_test_dl, X_train_dl, y_train_dl)\n",
    "plot_train_history(hist)"
   ]
  },
  {
   "cell_type": "markdown",
   "id": "f537da4a",
   "metadata": {},
   "source": [
    "### GRU"
   ]
  },
  {
   "cell_type": "code",
   "execution_count": 45,
   "id": "2e154840",
   "metadata": {},
   "outputs": [
    {
     "name": "stdout",
     "output_type": "stream",
     "text": [
      "Model: \"GRU\"\n",
      "_________________________________________________________________\n",
      "Layer (type)                 Output Shape              Param #   \n",
      "=================================================================\n",
      "gru_3 (GRU)                  (None, 5, 480)            796320    \n",
      "_________________________________________________________________\n",
      "gru_4 (GRU)                  (None, 5, 448)            1249920   \n",
      "_________________________________________________________________\n",
      "gru_5 (GRU)                  (None, 96)                157248    \n",
      "_________________________________________________________________\n",
      "dense_20 (Dense)             (None, 1)                 97        \n",
      "=================================================================\n",
      "Total params: 2,203,585\n",
      "Trainable params: 2,203,585\n",
      "Non-trainable params: 0\n",
      "_________________________________________________________________\n",
      "None\n",
      "{0: 0.8457292858585179, 1: 1.2231091209967877}\n",
      "Epoch 1/20\n",
      "786/786 [==============================] - 60s 71ms/step - loss: 0.5641 - auc: 0.8060 - acc: 0.7603 - val_loss: 0.4373 - val_auc: 0.8890 - val_acc: 0.8214\n",
      "Epoch 2/20\n",
      "786/786 [==============================] - 53s 67ms/step - loss: 0.4350 - auc: 0.8911 - acc: 0.8258 - val_loss: 0.4252 - val_auc: 0.8949 - val_acc: 0.8214\n",
      "Epoch 3/20\n",
      "786/786 [==============================] - 50s 64ms/step - loss: 0.4211 - auc: 0.8960 - acc: 0.8306 - val_loss: 0.4147 - val_auc: 0.8985 - val_acc: 0.8232\n",
      "Epoch 4/20\n",
      "786/786 [==============================] - 49s 62ms/step - loss: 0.4113 - auc: 0.8990 - acc: 0.8321 - val_loss: 0.4058 - val_auc: 0.9007 - val_acc: 0.8272\n",
      "Epoch 5/20\n",
      "786/786 [==============================] - 50s 63ms/step - loss: 0.4033 - auc: 0.9010 - acc: 0.8317 - val_loss: 0.3989 - val_auc: 0.9021 - val_acc: 0.8297\n",
      "Epoch 6/20\n",
      "786/786 [==============================] - 50s 63ms/step - loss: 0.3971 - auc: 0.9023 - acc: 0.8324 - val_loss: 0.3940 - val_auc: 0.9028 - val_acc: 0.8292\n",
      "Epoch 7/20\n",
      "786/786 [==============================] - 48s 61ms/step - loss: 0.3926 - auc: 0.9033 - acc: 0.8321 - val_loss: 0.3907 - val_auc: 0.9031 - val_acc: 0.8281\n",
      "Epoch 8/20\n",
      "786/786 [==============================] - 44s 57ms/step - loss: 0.3896 - auc: 0.9039 - acc: 0.8316 - val_loss: 0.3885 - val_auc: 0.9033 - val_acc: 0.8286\n",
      "Epoch 9/20\n",
      "786/786 [==============================] - 44s 56ms/step - loss: 0.3874 - auc: 0.9044 - acc: 0.8322 - val_loss: 0.3867 - val_auc: 0.9035 - val_acc: 0.8287\n",
      "Epoch 10/20\n",
      "786/786 [==============================] - 45s 57ms/step - loss: 0.3856 - auc: 0.9048 - acc: 0.8325 - val_loss: 0.3853 - val_auc: 0.9038 - val_acc: 0.8292\n",
      "Epoch 11/20\n",
      "786/786 [==============================] - 45s 57ms/step - loss: 0.3842 - auc: 0.9051 - acc: 0.8324 - val_loss: 0.3840 - val_auc: 0.9041 - val_acc: 0.8302\n",
      "Epoch 12/20\n",
      "786/786 [==============================] - 45s 57ms/step - loss: 0.3828 - auc: 0.9055 - acc: 0.8327 - val_loss: 0.3828 - val_auc: 0.9045 - val_acc: 0.8305\n",
      "Epoch 13/20\n",
      "786/786 [==============================] - 511s 651ms/step - loss: 0.3816 - auc: 0.9058 - acc: 0.8332 - val_loss: 0.3815 - val_auc: 0.9050 - val_acc: 0.8307\n",
      "Epoch 14/20\n",
      "786/786 [==============================] - 49s 63ms/step - loss: 0.3804 - auc: 0.9062 - acc: 0.8332 - val_loss: 0.3803 - val_auc: 0.9054 - val_acc: 0.8311\n",
      "Epoch 15/20\n",
      "786/786 [==============================] - 50s 63ms/step - loss: 0.3792 - auc: 0.9066 - acc: 0.8328 - val_loss: 0.3790 - val_auc: 0.9060 - val_acc: 0.8316\n",
      "Epoch 16/20\n",
      "786/786 [==============================] - 49s 62ms/step - loss: 0.3781 - auc: 0.9070 - acc: 0.8330 - val_loss: 0.3778 - val_auc: 0.9065 - val_acc: 0.8311\n",
      "Epoch 17/20\n",
      "786/786 [==============================] - 49s 62ms/step - loss: 0.3770 - auc: 0.9073 - acc: 0.8333 - val_loss: 0.3765 - val_auc: 0.9068 - val_acc: 0.8310\n",
      "Epoch 18/20\n",
      "786/786 [==============================] - 46s 59ms/step - loss: 0.3760 - auc: 0.9076 - acc: 0.8333 - val_loss: 0.3754 - val_auc: 0.9073 - val_acc: 0.8318\n",
      "Epoch 19/20\n",
      "786/786 [==============================] - 50s 63ms/step - loss: 0.3751 - auc: 0.9079 - acc: 0.8332 - val_loss: 0.3743 - val_auc: 0.9078 - val_acc: 0.8305\n",
      "Epoch 20/20\n",
      "786/786 [==============================] - 48s 62ms/step - loss: 0.3743 - auc: 0.9081 - acc: 0.8331 - val_loss: 0.3734 - val_auc: 0.9082 - val_acc: 0.8307\n",
      "Confusion Matrix:\n",
      "[[3333  431]\n",
      " [ 633 1886]]\n",
      "              precision    recall  f1-score   support\n",
      "\n",
      "           0       0.84      0.89      0.86      3764\n",
      "           1       0.81      0.75      0.78      2519\n",
      "\n",
      "    accuracy                           0.83      6283\n",
      "   macro avg       0.83      0.82      0.82      6283\n",
      "weighted avg       0.83      0.83      0.83      6283\n",
      "\n",
      "Accuracy: 0.831 (Train: 0.827 )\n",
      "AUC: 0.908\n",
      "F1: 0.821\n",
      "MCC: 0.644\n",
      "Sensitivity :  0.885\n",
      "Specificity :  0.749\n"
     ]
    },
    {
     "data": {
      "image/png": "[encoded data removed]",
      "text/plain": [
       "<Figure size 432x288 with 2 Axes>"
      ]
     },
     "metadata": {
      "needs_background": "light"
     },
     "output_type": "display_data"
    },
    {
     "name": "stdout",
     "output_type": "stream",
     "text": [
      "Wall time: 24min 31s\n"
     ]
    }
   ],
   "source": [
    "%%time\n",
    "## DL Model Training and Evaluation\n",
    "model_structure = get_gru_clf(X_train_dl)\n",
    "\n",
    "model, hist = train_model(model_structure, X_train_dl, X_test_dl, y_train_dl, y_test_dl, \n",
    "                    verbose=True, weighted=True, epochs=20, batch_size=32)\n",
    "\n",
    "metrics = get_evaluation_metrics(model, X_test_dl, y_test_dl, X_train_dl, y_train_dl)\n",
    "plot_train_history(hist)"
   ]
  },
  {
   "cell_type": "markdown",
   "id": "0e66ebcb",
   "metadata": {},
   "source": [
    "### LSTM"
   ]
  },
  {
   "cell_type": "code",
   "execution_count": 46,
   "id": "0e976cf5",
   "metadata": {},
   "outputs": [
    {
     "name": "stdout",
     "output_type": "stream",
     "text": [
      "Model: \"LSTM\"\n",
      "_________________________________________________________________\n",
      "Layer (type)                 Output Shape              Param #   \n",
      "=================================================================\n",
      "lstm_3 (LSTM)                (None, 5, 352)            596992    \n",
      "_________________________________________________________________\n",
      "lstm_4 (LSTM)                (None, 5, 512)            1771520   \n",
      "_________________________________________________________________\n",
      "lstm_5 (LSTM)                (None, 128)               328192    \n",
      "_________________________________________________________________\n",
      "dense_21 (Dense)             (None, 1)                 129       \n",
      "=================================================================\n",
      "Total params: 2,696,833\n",
      "Trainable params: 2,696,833\n",
      "Non-trainable params: 0\n",
      "_________________________________________________________________\n",
      "None\n",
      "{0: 0.8457292858585179, 1: 1.2231091209967877}\n",
      "Epoch 1/20\n",
      "786/786 [==============================] - 72s 87ms/step - loss: 0.6797 - auc: 0.6280 - acc: 0.6253 - val_loss: 0.6307 - val_auc: 0.7339 - val_acc: 0.7385\n",
      "Epoch 2/20\n",
      "786/786 [==============================] - 62s 79ms/step - loss: 0.6079 - auc: 0.7816 - acc: 0.7451 - val_loss: 0.5223 - val_auc: 0.8583 - val_acc: 0.7762\n",
      "Epoch 3/20\n",
      "786/786 [==============================] - 62s 79ms/step - loss: 0.5269 - auc: 0.8351 - acc: 0.7807 - val_loss: 0.4840 - val_auc: 0.8729 - val_acc: 0.7850\n",
      "Epoch 4/20\n",
      "786/786 [==============================] - 62s 79ms/step - loss: 0.5013 - auc: 0.8418 - acc: 0.7832 - val_loss: 0.4712 - val_auc: 0.8807 - val_acc: 0.7969\n",
      "Epoch 5/20\n",
      "786/786 [==============================] - 69s 87ms/step - loss: 0.4878 - auc: 0.8510 - acc: 0.7913 - val_loss: 0.4693 - val_auc: 0.8843 - val_acc: 0.8178\n",
      "Epoch 6/20\n",
      "786/786 [==============================] - 227s 289ms/step - loss: 0.4822 - auc: 0.8547 - acc: 0.7963 - val_loss: 0.4663 - val_auc: 0.8860 - val_acc: 0.8222\n",
      "Epoch 7/20\n",
      "786/786 [==============================] - 69s 88ms/step - loss: 0.4775 - auc: 0.8585 - acc: 0.7966 - val_loss: 0.4542 - val_auc: 0.8887 - val_acc: 0.8225\n",
      "Epoch 8/20\n",
      "786/786 [==============================] - 62s 78ms/step - loss: 0.4750 - auc: 0.8602 - acc: 0.7994 - val_loss: 0.4507 - val_auc: 0.8892 - val_acc: 0.8265\n",
      "Epoch 9/20\n",
      "786/786 [==============================] - 60s 76ms/step - loss: 0.4629 - auc: 0.8666 - acc: 0.8060 - val_loss: 0.4425 - val_auc: 0.8910 - val_acc: 0.8254\n",
      "Epoch 10/20\n",
      "786/786 [==============================] - 88s 112ms/step - loss: 0.4578 - auc: 0.8699 - acc: 0.8065 - val_loss: 0.4420 - val_auc: 0.8921 - val_acc: 0.8287\n",
      "Epoch 11/20\n",
      "786/786 [==============================] - 60s 77ms/step - loss: 0.4559 - auc: 0.8701 - acc: 0.8031 - val_loss: 0.4315 - val_auc: 0.8939 - val_acc: 0.8286\n",
      "Epoch 12/20\n",
      "786/786 [==============================] - 60s 77ms/step - loss: 0.4518 - auc: 0.8720 - acc: 0.8060 - val_loss: 0.4278 - val_auc: 0.8952 - val_acc: 0.8305\n",
      "Epoch 13/20\n",
      "786/786 [==============================] - 59s 75ms/step - loss: 0.4486 - auc: 0.8732 - acc: 0.8086 - val_loss: 0.4263 - val_auc: 0.8956 - val_acc: 0.8310\n",
      "Epoch 14/20\n",
      "786/786 [==============================] - 62s 78ms/step - loss: 0.4442 - auc: 0.8758 - acc: 0.8105 - val_loss: 0.4215 - val_auc: 0.8965 - val_acc: 0.8313\n",
      "Epoch 15/20\n",
      "786/786 [==============================] - 64s 81ms/step - loss: 0.4419 - auc: 0.8766 - acc: 0.8062 - val_loss: 0.4170 - val_auc: 0.8977 - val_acc: 0.8302\n",
      "Epoch 16/20\n",
      "786/786 [==============================] - 61s 77ms/step - loss: 0.4382 - auc: 0.8776 - acc: 0.8128 - val_loss: 0.4159 - val_auc: 0.8988 - val_acc: 0.8305\n",
      "Epoch 17/20\n",
      "786/786 [==============================] - 62s 79ms/step - loss: 0.4324 - auc: 0.8800 - acc: 0.8103 - val_loss: 0.4130 - val_auc: 0.9000 - val_acc: 0.8295\n",
      "Epoch 18/20\n",
      "786/786 [==============================] - 60s 76ms/step - loss: 0.4295 - auc: 0.8812 - acc: 0.8114 - val_loss: 0.4057 - val_auc: 0.9008 - val_acc: 0.8310\n",
      "Epoch 19/20\n",
      "786/786 [==============================] - 61s 78ms/step - loss: 0.4297 - auc: 0.8818 - acc: 0.8125 - val_loss: 0.4062 - val_auc: 0.9013 - val_acc: 0.8299\n",
      "Epoch 20/20\n",
      "786/786 [==============================] - 61s 77ms/step - loss: 0.4242 - auc: 0.8843 - acc: 0.8138 - val_loss: 0.4022 - val_auc: 0.9021 - val_acc: 0.8314\n",
      "Confusion Matrix:\n",
      "[[3391  373]\n",
      " [ 686 1833]]\n",
      "              precision    recall  f1-score   support\n",
      "\n",
      "           0       0.83      0.90      0.86      3764\n",
      "           1       0.83      0.73      0.78      2519\n",
      "\n",
      "    accuracy                           0.83      6283\n",
      "   macro avg       0.83      0.81      0.82      6283\n",
      "weighted avg       0.83      0.83      0.83      6283\n",
      "\n",
      "Accuracy: 0.831 (Train: 0.827 )\n",
      "AUC: 0.902\n",
      "F1: 0.82\n",
      "MCC: 0.645\n",
      "Sensitivity :  0.901\n",
      "Specificity :  0.728\n"
     ]
    },
    {
     "data": {
      "image/png": "[encoded data removed]",
      "text/plain": [
       "<Figure size 432x288 with 2 Axes>"
      ]
     },
     "metadata": {
      "needs_background": "light"
     },
     "output_type": "display_data"
    },
    {
     "name": "stdout",
     "output_type": "stream",
     "text": [
      "Wall time: 24min 47s\n"
     ]
    }
   ],
   "source": [
    "%%time\n",
    "## DL Model Training and Evaluation\n",
    "model_structure = get_lstm_clf(X_train_dl)\n",
    "\n",
    "model, hist = train_model(model_structure, X_train_dl, X_test_dl, y_train_dl, y_test_dl, \n",
    "                    verbose=True, weighted=True, epochs=20, batch_size=32)\n",
    "\n",
    "metrics = get_evaluation_metrics(model, X_test_dl, y_test_dl, X_train_dl, y_train_dl)\n",
    "plot_train_history(hist)"
   ]
  },
  {
   "cell_type": "code",
   "execution_count": null,
   "id": "ec42c1f9",
   "metadata": {},
   "outputs": [],
   "source": []
  },
  {
   "cell_type": "code",
   "execution_count": null,
   "id": "1b863485",
   "metadata": {},
   "outputs": [],
   "source": []
  }
 ],
 "metadata": {
  "kernelspec": {
   "display_name": "Python 3",
   "language": "python",
   "name": "python3"
  },
  "language_info": {
   "codemirror_mode": {
    "name": "ipython",
    "version": 3
   },
   "file_extension": ".py",
   "mimetype": "text/x-python",
   "name": "python",
   "nbconvert_exporter": "python",
   "pygments_lexer": "ipython3",
   "version": "3.8.8"
  }
 },
 "nbformat": 4,
 "nbformat_minor": 5
}
